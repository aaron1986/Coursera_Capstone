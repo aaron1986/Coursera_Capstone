{
    "cells": [
        {
            "metadata": {
                "collapsed": true
            },
            "cell_type": "markdown",
            "source": "<h1><center>1. Introduction</center></h1>"
        },
        {
            "metadata": {},
            "cell_type": "markdown",
            "source": "<center><h3>I will compare the number of sport teams in the US and Canada to see which two cities (in each country) has the most sports teams.</center></h3>\n\n<center><h3>The second part of this assignment is to discuss a business problem regarding someone with wishes to open a restaurant. Sporting venues are popular with fans and tourists both during match day and non-playing days; I would therefore make the assumption that a restaurant operating within the close proximity\u200b of the stadium would be beneficial for the owners.</center></h3>"
        },
        {
            "metadata": {},
            "cell_type": "code",
            "source": "",
            "execution_count": null,
            "outputs": []
        },
        {
            "metadata": {},
            "cell_type": "markdown",
            "source": "\n<center><h1>2. Data Description</center></h1>\n\n<center><h3>I have have used Wiki data of major professional sports teams of the United States and Canada to view the sports teams locations (cities). Moreover, I then proceeded to extract the number of cities (of both the USA and Canada) with the highest number of sports teams. I found that the two cities with the most sports teams are New York City (USA) and Toronto (Canada); I again used Wiki to scrape data to confirm and detail information (venues and clubs) of the two teams.</center></h3>\n"
        },
        {
            "metadata": {},
            "cell_type": "code",
            "source": "",
            "execution_count": null,
            "outputs": []
        },
        {
            "metadata": {},
            "cell_type": "markdown",
            "source": "\n<h1><center>3. Methodology section.</h1></center>\n\n<h3><center>Using the data above I can obtain that the cities with the most sports teams are New York City (7 sports teams) and Toronto (5 sports teams). Moreover, I will now use the data to analyze the results to produce a visual map of the locations. In order to view location of teams within their chosen city I had to manually update a csv file to include Latitude and Longitude information this was based on venue data. Moreover, the Latitude and Longitude information was found on google maps whereupon I entered the venue name and sourced the lat and long details.</h3></center>\n"
        },
        {
            "metadata": {},
            "cell_type": "code",
            "source": "",
            "execution_count": null,
            "outputs": []
        },
        {
            "metadata": {},
            "cell_type": "markdown",
            "source": "\n<h1><center>4. Results section</h1></center>\n\n<h3><center>I have identified three areas within the city of Toronto that I feel would make an excellent business location for the restaurant, all three locations are within close proximity to the stadiums and are also close to public transport. Moreover, at the moment there doesnt seem to be a restaurant situated in the area, only coffee and snack shops. Although Toronto is small geographically the city has a very high number of tourists who visit the area and with the stadiums so close this will only help business in the long-term.</center></h3>\n"
        },
        {
            "metadata": {},
            "cell_type": "code",
            "source": "",
            "execution_count": null,
            "outputs": []
        },
        {
            "metadata": {},
            "cell_type": "markdown",
            "source": "\n<h1><center>5. Discussion section</h1></center>\n\n<h3><center>After exploring the area using the maps I feel it will be a good opportunity for any restaurant owners to open a business in this area. Competition from the stadium(s) would have little or no affect on business during non-playing days, I would also add the most popular places are the Coffee shops and public transport which would be beneficial.</h3></center>\n"
        },
        {
            "metadata": {},
            "cell_type": "code",
            "source": "",
            "execution_count": null,
            "outputs": []
        },
        {
            "metadata": {},
            "cell_type": "markdown",
            "source": "\n<h1><center>6. Conclusion section</h1></center>\n\n<h3><center>My conclusion is that Toronto seems to be a very popular place among tourists, the only doubt I have is I could have sought data on the ages of the people visiting Totonto. Moreover, if he restaurant is aimed towards the elder generation maybe having the business situated near a sports area could damage business?</h3></center>\n\n\n"
        },
        {
            "metadata": {},
            "cell_type": "code",
            "source": "",
            "execution_count": null,
            "outputs": []
        },
        {
            "metadata": {},
            "cell_type": "markdown",
            "source": "end."
        }
    ],
    "metadata": {
        "kernelspec": {
            "name": "python3",
            "display_name": "Python 3.7",
            "language": "python"
        },
        "language_info": {
            "name": "python",
            "version": "3.7.9",
            "mimetype": "text/x-python",
            "codemirror_mode": {
                "name": "ipython",
                "version": 3
            },
            "pygments_lexer": "ipython3",
            "nbconvert_exporter": "python",
            "file_extension": ".py"
        }
    },
    "nbformat": 4,
    "nbformat_minor": 1
}