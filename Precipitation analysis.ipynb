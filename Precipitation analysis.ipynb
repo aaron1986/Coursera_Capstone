{
    "cells": [
        {
            "cell_type": "markdown",
            "metadata": {},
            "source": "#Oil Prices Example"
        },
        {
            "cell_type": "code",
            "execution_count": 1,
            "metadata": {},
            "outputs": [
                {
                    "data": {
                        "text/html": "<div>\n<style scoped>\n    .dataframe tbody tr th:only-of-type {\n        vertical-align: middle;\n    }\n\n    .dataframe tbody tr th {\n        vertical-align: top;\n    }\n\n    .dataframe thead th {\n        text-align: right;\n    }\n</style>\n<table border=\"1\" class=\"dataframe\">\n  <thead>\n    <tr style=\"text-align: right;\">\n      <th></th>\n      <th>Date</th>\n      <th>Price</th>\n    </tr>\n  </thead>\n  <tbody>\n    <tr>\n      <th>0</th>\n      <td>20-May-87</td>\n      <td>18.63</td>\n    </tr>\n    <tr>\n      <th>1</th>\n      <td>21-May-87</td>\n      <td>18.45</td>\n    </tr>\n    <tr>\n      <th>2</th>\n      <td>22-May-87</td>\n      <td>18.55</td>\n    </tr>\n    <tr>\n      <th>3</th>\n      <td>25-May-87</td>\n      <td>18.60</td>\n    </tr>\n    <tr>\n      <th>4</th>\n      <td>26-May-87</td>\n      <td>18.63</td>\n    </tr>\n  </tbody>\n</table>\n</div>",
                        "text/plain": "        Date  Price\n0  20-May-87  18.63\n1  21-May-87  18.45\n2  22-May-87  18.55\n3  25-May-87  18.60\n4  26-May-87  18.63"
                    },
                    "execution_count": 1,
                    "metadata": {},
                    "output_type": "execute_result"
                }
            ],
            "source": "# The code was removed by Watson Studio for sharing."
        },
        {
            "cell_type": "code",
            "execution_count": null,
            "metadata": {},
            "outputs": [],
            "source": ""
        }
    ],
    "metadata": {
        "kernelspec": {
            "display_name": "Python 3.6",
            "language": "python",
            "name": "python3"
        },
        "language_info": {
            "codemirror_mode": {
                "name": "ipython",
                "version": 3
            },
            "file_extension": ".py",
            "mimetype": "text/x-python",
            "name": "python",
            "nbconvert_exporter": "python",
            "pygments_lexer": "ipython3",
            "version": "3.6.9"
        }
    },
    "nbformat": 4,
    "nbformat_minor": 1
}